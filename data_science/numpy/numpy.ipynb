{
 "cells": [
  {
   "cell_type": "markdown",
   "metadata": {},
   "source": [
    "# 简介\n",
    "\n",
    "Numpy 是一个基础的科学计算库，支持多维数组的数据类型以及复杂数组运算操作，并且还提供了许多有用的科学计算函数。\n",
    "\n",
    "\n",
    "# 多维数组\n",
    "\n",
    "## 多维数组是计算的基石\n",
    "\n",
    "多维数组 `numpy.ndarray` 是 Numpy 中重要的数据类型，是科学计算的数据容器和基石。\n",
    "\n",
    "多维数组含有多个维度，不同维度可以含有不同数量的元素，不过同一个多维数组中的元素类型必须保持一致。多维数组的维度数量称为阶（rank），每个维度用轴（axis）来指代，数组形状（shape）是用来记录数组每个维度元素数量的一个 tuple 对象。\n",
    "\n",
    "\n",
    "下面通过一个示例，来看多维数组对象的一些常用属性："
   ]
  },
  {
   "cell_type": "code",
   "execution_count": 1,
   "metadata": {
    "collapsed": false
   },
   "outputs": [
    {
     "name": "stdout",
     "output_type": "stream",
     "text": [
      "2\n",
      "(2, 3)\n",
      "6\n",
      "int32\n",
      "4\n",
      "<memory at 0x03BCDDC8>\n"
     ]
    }
   ],
   "source": [
    "import numpy as np\n",
    "\n",
    "a = np.array([[1, 2, 3], [4, 5, 6]])\n",
    "\n",
    "print(a.ndim)  # 返回一个整数，表示数组的维度数量\n",
    "print(a.shape)  # 返回一个 tuple，表示数组中每个维度的元素数量\n",
    "print(a.size)  # 返回一个整数，表示数组中含有的元素总数\n",
    "print(a.dtype)  # 返回数组中元素的数据类型\n",
    "print(a.itemsize)  # 返回数组中每个元素占用的字节数\n",
    "print(a.data)  # 返回真正储存数组中元素的对象"
   ]
  },
  {
   "cell_type": "markdown",
   "metadata": {},
   "source": [
    "为什么说多维数组是科学计算的基石？\n",
    "\n",
    "Numpy 为多维数组提供了许多数学运算操作，比如数组之间可以进行加减乘除等运算，并且通过 Broadcasting 机制（后面会介绍）可以将这些运算扩展到维度不匹配的数组之间。Numpy 还支持数组进行一些常规的线性代数运算，如向量内乘、矩阵相乘等。此外 Numpy 还提供了许多常用的数学函数，如 exp, log, sin, cos 等，并且这些函数可以直接作用于数组对象上。因此多维数组是数据的容器，是科学计算的基石。"
   ]
  },
  {
   "cell_type": "markdown",
   "metadata": {},
   "source": [
    "## 创建数组\n",
    "\n",
    "* 由 Python 中的 `list` 或 `tuple` 对象来创建"
   ]
  },
  {
   "cell_type": "code",
   "execution_count": 2,
   "metadata": {
    "collapsed": false,
    "scrolled": true
   },
   "outputs": [
    {
     "name": "stdout",
     "output_type": "stream",
     "text": [
      "(3,) (2, 2) (3, 2)\n"
     ]
    }
   ],
   "source": [
    "a = np.array([1, 2, 3])  # 创建一维数组\n",
    "b = np.array([[1, 2], [3, 4]])  # 创建二维数组\n",
    "c = np.array([(1, 2), (3, 4), (5, 6)])  # 使用 tuple 也可以创建数据\n",
    "\n",
    "print(a.shape, b.shape, c.shape)"
   ]
  },
  {
   "cell_type": "markdown",
   "metadata": {},
   "source": [
    "* 由 Numpy 中的一些函数来创建数组"
   ]
  },
  {
   "cell_type": "code",
   "execution_count": 3,
   "metadata": {
    "collapsed": false
   },
   "outputs": [
    {
     "name": "stdout",
     "output_type": "stream",
     "text": [
      "zeros 函数创建元素内容为 0.0 的数组\n",
      "(5,)\n",
      "[ 0.  0.  0.  0.  0.]\n",
      "(2, 3)\n",
      "[[ 0.  0.  0.]\n",
      " [ 0.  0.  0.]]\n"
     ]
    }
   ],
   "source": [
    "print(\"zeros 函数创建元素内容为 0.0 的数组\")\n",
    "a = np.zeros(5)\n",
    "print(a.shape)\n",
    "print(a)\n",
    "b = np.zeros((2, 3))\n",
    "print(b.shape)\n",
    "print(b)"
   ]
  },
  {
   "cell_type": "code",
   "execution_count": 4,
   "metadata": {
    "collapsed": false
   },
   "outputs": [
    {
     "name": "stdout",
     "output_type": "stream",
     "text": [
      "ones 函数创建元素内容为 1.0 的数组\n",
      "(5,)\n",
      "[ 1.  1.  1.  1.  1.]\n",
      "(2, 3)\n",
      "[[ 1.  1.  1.]\n",
      " [ 1.  1.  1.]]\n"
     ]
    }
   ],
   "source": [
    "print(\"ones 函数创建元素内容为 1.0 的数组\")\n",
    "c = np.ones(5)\n",
    "print(c.shape)\n",
    "print(c)\n",
    "d = np.ones((2, 3))\n",
    "print(d.shape)\n",
    "print(d)"
   ]
  },
  {
   "cell_type": "code",
   "execution_count": 5,
   "metadata": {
    "collapsed": false
   },
   "outputs": [
    {
     "name": "stdout",
     "output_type": "stream",
     "text": [
      "full 函数创建指定内容的数组\n",
      "[ 3.14  3.14  3.14  3.14  3.14]\n",
      "[[ 3.14159265  3.14159265  3.14159265]\n",
      " [ 3.14159265  3.14159265  3.14159265]]\n"
     ]
    }
   ],
   "source": [
    "print(\"full 函数创建指定内容的数组\")\n",
    "print(np.full(5, 3.14))\n",
    "print(np.full((2, 3), np.pi))"
   ]
  },
  {
   "cell_type": "code",
   "execution_count": 6,
   "metadata": {
    "collapsed": false
   },
   "outputs": [
    {
     "name": "stdout",
     "output_type": "stream",
     "text": [
      "empty 函数创建元素内容为原来内存位置上随机数据的数组\n",
      "(5,)\n",
      "[ 3.14  3.14  3.14  3.14  3.14]\n",
      "(2, 3)\n",
      "[[ 3.14159265  3.14159265  3.14159265]\n",
      " [ 3.14159265  3.14159265  3.14159265]]\n"
     ]
    }
   ],
   "source": [
    "print(\"empty 函数创建元素内容为原来内存位置上随机数据的数组\")\n",
    "e = np.empty(5)\n",
    "print(e.shape)\n",
    "print(e)\n",
    "f = np.empty((2, 3))\n",
    "print(f.shape)\n",
    "print(f)"
   ]
  },
  {
   "cell_type": "code",
   "execution_count": 7,
   "metadata": {
    "collapsed": false
   },
   "outputs": [
    {
     "name": "stdout",
     "output_type": "stream",
     "text": [
      "zeros_like, ones_like, full_like, empty_like 这些函数按照其它数组的 shape 来创建新数组\n",
      "[ 0.  0.  0.  0.  0.]\n",
      "[ 1.  1.  1.  1.  1.]\n",
      "[ 3.14  3.14  3.14  3.14  3.14]\n",
      "[ 3.14  3.14  3.14  3.14  3.14]\n"
     ]
    }
   ],
   "source": [
    "print(\"zeros_like, ones_like, full_like, empty_like 这些函数按照其它数组的 shape 来创建新数组\")\n",
    "print(np.zeros_like(e))\n",
    "print(np.ones_like(e))\n",
    "print(np.full_like(e, 3.14))\n",
    "print(np.empty_like(e))"
   ]
  },
  {
   "cell_type": "code",
   "execution_count": 8,
   "metadata": {
    "collapsed": false
   },
   "outputs": [
    {
     "name": "stdout",
     "output_type": "stream",
     "text": [
      "arange 函数创建一维数组\n",
      "[0 1 2 3 4 5 6 7 8 9]\n",
      "[5 6 7 8 9]\n",
      "[5 7 9]\n",
      "[ 0.    0.13  0.26  0.39  0.52  0.65  0.78  0.91]\n"
     ]
    }
   ],
   "source": [
    "print(\"arange 函数创建一维数组\")\n",
    "print(np.arange(10))\n",
    "print(np.arange(5, 10))\n",
    "print(np.arange(5, 10, 2))\n",
    "print(np.arange(0, 1, 0.13))"
   ]
  },
  {
   "cell_type": "code",
   "execution_count": 9,
   "metadata": {
    "collapsed": false
   },
   "outputs": [
    {
     "name": "stdout",
     "output_type": "stream",
     "text": [
      "eye 函数创建单位矩阵\n",
      "[[ 1.  0.  0.]\n",
      " [ 0.  1.  0.]\n",
      " [ 0.  0.  1.]]\n"
     ]
    }
   ],
   "source": [
    "print(\"eye 函数创建单位矩阵\")\n",
    "print(np.eye(3))"
   ]
  },
  {
   "cell_type": "code",
   "execution_count": 10,
   "metadata": {
    "collapsed": false
   },
   "outputs": [
    {
     "name": "stdout",
     "output_type": "stream",
     "text": [
      "random.rand 函数创建服从 0~1 均匀分布的随机数或数组\n",
      "0.21803252442693744\n",
      "[ 0.96750558  0.54017864  0.28062684  0.90757686  0.27040183]\n",
      "[[ 0.34701505  0.2790301   0.98375873]\n",
      " [ 0.20779883  0.32286282  0.67655253]]\n"
     ]
    }
   ],
   "source": [
    "print(\"random.rand 函数创建服从 0~1 均匀分布的随机数或数组\")\n",
    "print(np.random.rand())\n",
    "print(np.random.rand(5))\n",
    "print(np.random.rand(2, 3))  # 注：参数不是 tuple"
   ]
  },
  {
   "cell_type": "code",
   "execution_count": 11,
   "metadata": {
    "collapsed": false
   },
   "outputs": [
    {
     "name": "stdout",
     "output_type": "stream",
     "text": [
      "random.randn 函数创建服从 N(0, 1) 正态分布的随机数或数组\n",
      "1.2713998698275342\n",
      "[-1.34355819  0.93978709 -0.50550037 -1.8171321   1.09485635]\n",
      "[[ 0.07481235 -1.10289338  0.75820774]\n",
      " [-0.78351272  0.17115862  1.28041684]]\n"
     ]
    }
   ],
   "source": [
    "print(\"random.randn 函数创建服从 N(0, 1) 正态分布的随机数或数组\")\n",
    "print(np.random.randn())\n",
    "print(np.random.randn(5))\n",
    "print(np.random.randn(2, 3))"
   ]
  },
  {
   "cell_type": "code",
   "execution_count": 12,
   "metadata": {
    "collapsed": false
   },
   "outputs": [
    {
     "name": "stdout",
     "output_type": "stream",
     "text": [
      "fromfunction 通过执行某个函数来创建数组\n",
      "[[0 1 2]\n",
      " [1 2 3]\n",
      " [2 3 4]]\n"
     ]
    }
   ],
   "source": [
    "print(\"fromfunction 通过执行某个函数来创建数组\")\n",
    "x = np.fromfunction(lambda i, j: i + j, (3, 3), dtype=int)\n",
    "print(x)"
   ]
  },
  {
   "cell_type": "markdown",
   "metadata": {},
   "source": [
    "**注意**\n",
    "\n",
    "通过 `zeros`, `ones`, `empty` 等函数创建数组时，元素的数据类型默认是浮点数（`np.float64`），如果想要指定其它数据类型，可以通过传递参数 `dtype` 来实现。\n",
    "\n",
    "由于浮点数的精度在计算机上表示是近似的，通过 `arange` 函数创建一维数组的长度可能会有变化，如果想要创建指定长度的一维数组，就要使用函数 `linspace`。"
   ]
  },
  {
   "cell_type": "markdown",
   "metadata": {},
   "source": [
    "* 由其它子数组来堆叠创建\n",
    "\n",
    "利用堆叠操作，可以横向/纵向堆叠子数组来构造数组。"
   ]
  },
  {
   "cell_type": "code",
   "execution_count": 13,
   "metadata": {
    "collapsed": false
   },
   "outputs": [
    {
     "name": "stdout",
     "output_type": "stream",
     "text": [
      "[[1 2]\n",
      " [3 4]]\n",
      "[[5 6]\n",
      " [7 8]]\n",
      "[[1 2 5 6]\n",
      " [3 4 7 8]]\n",
      "[[1 2]\n",
      " [3 4]\n",
      " [5 6]\n",
      " [7 8]]\n"
     ]
    }
   ],
   "source": [
    "a = np.array([[1, 2], [3, 4]])\n",
    "b = np.array([[5, 6], [7, 8]])\n",
    "print(a)\n",
    "print(b)\n",
    "\n",
    "print(np.hstack((a, b)))  # 横向堆叠\n",
    "print(np.vstack((a, b)))  # 纵向堆叠"
   ]
  },
  {
   "cell_type": "markdown",
   "metadata": {},
   "source": [
    "注：Numpy 提供了 `hsplit` 和 `vsplit` 用来分割数组，也即是堆叠数组的反操作。"
   ]
  },
  {
   "cell_type": "markdown",
   "metadata": {},
   "source": [
    "## 重塑数组\n",
    "\n",
    "所谓重塑数组指的是，在不改变数组中数据的同时改变数组的 shape。有的方法改变原数组的 shape，有的方法返回一个新的数组。\n",
    "\n",
    "示例："
   ]
  },
  {
   "cell_type": "code",
   "execution_count": 14,
   "metadata": {
    "collapsed": false
   },
   "outputs": [
    {
     "name": "stdout",
     "output_type": "stream",
     "text": [
      "[ 0  1  2  3  4  5  6  7  8  9 10 11]\n",
      "[[ 0  1  2  3]\n",
      " [ 4  5  6  7]\n",
      " [ 8  9 10 11]]\n",
      "[[ 0  1  2  3  4  5]\n",
      " [ 6  7  8  9 10 11]]\n",
      "[ 0  1  2  3  4  5  6  7  8  9 10 11]\n",
      "[[ 0  1  2  3]\n",
      " [ 4  5  6  7]\n",
      " [ 8  9 10 11]]\n",
      "[[ 0  4  8]\n",
      " [ 1  5  9]\n",
      " [ 2  6 10]\n",
      " [ 3  7 11]]\n",
      "[ 0  1  2  3  4  5  6  7  8  9 10 11]\n"
     ]
    }
   ],
   "source": [
    "a = np.arange(12)\n",
    "\n",
    "print(a)\n",
    "\n",
    "print(a.reshape(3, 4))  # 改变 shape，返回新数组\n",
    "\n",
    "print(a.reshape(-1, 6))  # 用“-1”自动计算维度大小\n",
    "\n",
    "print(a)\n",
    "\n",
    "a.resize(3, 4)  # 改变原数组的 shape\n",
    "\n",
    "print(a)\n",
    "\n",
    "print(a.T)  # 返回转置的新数组，等价于 a.transpose()\n",
    "\n",
    "print(a.ravel())  # 返回一个新的一维数组"
   ]
  },
  {
   "cell_type": "markdown",
   "metadata": {},
   "source": [
    "## 访问数组\n",
    "\n",
    "### slice 和整数索引\n",
    "\n",
    "**索引一维数组**\n",
    "\n",
    "语法：`a[i]`，其中 `a` 是被索引的一维数组，`i` 是 slice 或者整数对象。\n",
    "\n",
    "要点：跟索引普通 Python 序列对象（list, tuple）的语法是一样的。\n",
    "\n",
    "示例："
   ]
  },
  {
   "cell_type": "code",
   "execution_count": 15,
   "metadata": {
    "collapsed": false
   },
   "outputs": [
    {
     "name": "stdout",
     "output_type": "stream",
     "text": [
      "3\n",
      "[1 2 3 4]\n",
      "[0 1 2 3 4]\n",
      "[9 8 7 6 5 4 3 2 1 0]\n"
     ]
    }
   ],
   "source": [
    "a = np.arange(10)\n",
    "print(a[3])\n",
    "print(a[1:5])\n",
    "print(a[:5])\n",
    "print(a[::-1])"
   ]
  },
  {
   "cell_type": "markdown",
   "metadata": {},
   "source": [
    "**索引多维数组**\n",
    "\n",
    "语法：`a[i, j]`，其中 `a` 是被索引的多维数组，`i` 和 `j` 是 slice 或者整数对象。\n",
    "\n",
    "要点：数组 `a` 每个维度都用一个 slice 或者整数进行索引，得到的结果是一个子数组。\n",
    "\n",
    "示例："
   ]
  },
  {
   "cell_type": "code",
   "execution_count": 16,
   "metadata": {
    "collapsed": false
   },
   "outputs": [
    {
     "name": "stdout",
     "output_type": "stream",
     "text": [
      "[[2 3]\n",
      " [6 7]]\n",
      "[[0 1 2 3]\n",
      " [4 5 6 7]]\n",
      "[2 6]\n",
      "[[2]\n",
      " [6]]\n",
      "[ 2  6 10]\n",
      "10\n",
      "[[ 2  5  8 11 14]\n",
      " [17 20 23 26 29]]\n"
     ]
    }
   ],
   "source": [
    "a = np.arange(12).reshape(3, 4)\n",
    "\n",
    "print(a[0:2, 2:4])  # 用 slice 索引\n",
    "\n",
    "print(a[0:2, :])\n",
    "\n",
    "print(a[0:2, 2])  # 用 slice 和整数索引，子数组的阶变小（一阶）\n",
    "\n",
    "print(a[0:2, 2:3])  # 跟上式返回数据相同，但子数组阶不同\n",
    "\n",
    "print(a[:, 2])\n",
    "\n",
    "print(a[2, 2])  # 用整数索引，子数组的阶变小（0阶）\n",
    "\n",
    "b = np.arange(30).reshape(2, 5, 3)\n",
    "print(b[...,2])  # 等价于 b[:,:,2]，用 ... 表示多个连续的 :"
   ]
  },
  {
   "cell_type": "markdown",
   "metadata": {},
   "source": [
    "### 整数数组索引\n",
    "\n",
    "**索引数组的第一维**\n",
    "\n",
    "语法：`a[i]`，其中 `a` 是被索引数组，`i` 是索引数组，它们都可能是一维或多维数组。\n",
    "\n",
    "要点：索引数组中的下标总是引用被索引数组的第一维，因此结果数组的 shape 由索引数组的 shape 跟被索引数组的第一维共同决定。\n",
    "\n",
    "示例："
   ]
  },
  {
   "cell_type": "code",
   "execution_count": 17,
   "metadata": {
    "collapsed": false,
    "scrolled": true
   },
   "outputs": [
    {
     "name": "stdout",
     "output_type": "stream",
     "text": [
      "被索引数组是一维数组\n",
      "[ 0  1  4  9 16 25 36 49 64 81]\n",
      "[1 1 4 4 9 9]\n",
      "[[ 1  4]\n",
      " [ 9 16]]\n"
     ]
    }
   ],
   "source": [
    "print(\"被索引数组是一维数组\")\n",
    "a = np.arange(10)**2\n",
    "print(a)\n",
    "i = np.array([1, 1, 2, 2, 3, 3])\n",
    "print(a[i])\n",
    "\n",
    "j = np.array([[1, 2], [3, 4]])\n",
    "print(a[j])"
   ]
  },
  {
   "cell_type": "code",
   "execution_count": 18,
   "metadata": {
    "collapsed": false,
    "scrolled": true
   },
   "outputs": [
    {
     "name": "stdout",
     "output_type": "stream",
     "text": [
      "被索引数组是多维数组\n",
      "[[ 0  1  2  3]\n",
      " [ 4  5  6  7]\n",
      " [ 8  9 10 11]]\n",
      "[[ 0  1  2  3]\n",
      " [ 4  5  6  7]\n",
      " [ 4  5  6  7]\n",
      " [ 0  1  2  3]\n",
      " [ 8  9 10 11]]\n",
      "[[[0 1 2 3]\n",
      "  [4 5 6 7]]\n",
      "\n",
      " [[4 5 6 7]\n",
      "  [0 1 2 3]]]\n"
     ]
    }
   ],
   "source": [
    "print(\"被索引数组是多维数组\")\n",
    "a = np.arange(12).reshape(3, 4)\n",
    "print(a)\n",
    "i = np.array([0, 1, 1, 0, 2])  # 数组中的下标引用被索引数组的第一维/行（即一维数组），因此结果是二维数组\n",
    "print(a[i])\n",
    "j = np.array([[0, 1], [1, 0]])  # 同样下标引用被索引数组的行，同时索引数组是二维的，因此结果是三维数组\n",
    "print(a[j])"
   ]
  },
  {
   "cell_type": "markdown",
   "metadata": {},
   "source": [
    "**索引数组的多个维度**\n",
    "\n",
    "语法：`a[i, j]` 或 `a[[i, j]]` 或 `a[(i, j)]`，其中 `a` 是被索引数组，`i` 和 `j` 都是索引数组，`i` 索引 `a` 的第一维，`j` 索引 `a` 的第二维，以此类推有 `a[i, j, k, l]`。\n",
    "\n",
    "要点：`i` 和 `j` 的 shape 必须相同；`a[np.array([i, j])]` 不等同于 `a[i, j]`。\n",
    "\n",
    "示例："
   ]
  },
  {
   "cell_type": "code",
   "execution_count": 19,
   "metadata": {
    "collapsed": false
   },
   "outputs": [
    {
     "name": "stdout",
     "output_type": "stream",
     "text": [
      "[[ 0  1  2  3]\n",
      " [ 4  5  6  7]\n",
      " [ 8  9 10 11]]\n",
      "[[1 6]\n",
      " [6 3]]\n",
      "[[2 6]\n",
      " [6 2]]\n"
     ]
    }
   ],
   "source": [
    "a = np.arange(12).reshape(3, 4)\n",
    "print(a)\n",
    "i = np.array([[0, 1], [1, 0]])\n",
    "j = np.array([[1, 2], [2, 3]])\n",
    "print(a[i, j])\n",
    "\n",
    "print(a[i, 2])  # 相当于 a[i, np.array([[2, 2], [2, 2]])]"
   ]
  },
  {
   "cell_type": "markdown",
   "metadata": {},
   "source": [
    "### 布尔数组索引\n",
    "\n",
    "**用单个布尔数组来索引**\n",
    "\n",
    "语法：`a[b]`，其中 `a` 是被索引数组，`b` 是用来索引的布尔数组，且 `b` 的 shape 跟 `a` 的 shape 是相同的。\n",
    "\n",
    "示例："
   ]
  },
  {
   "cell_type": "code",
   "execution_count": 20,
   "metadata": {
    "collapsed": false
   },
   "outputs": [
    {
     "name": "stdout",
     "output_type": "stream",
     "text": [
      "[[ 0  1  2  3]\n",
      " [ 4  5  6  7]\n",
      " [ 8  9 10 11]]\n",
      "[[False False False False]\n",
      " [False  True  True  True]\n",
      " [ True  True  True  True]]\n",
      "[ 5  6  7  8  9 10 11]\n",
      "[[ 0  1  2  3]\n",
      " [ 4 -1 -1 -1]\n",
      " [-1 -1 -1 -1]]\n"
     ]
    }
   ],
   "source": [
    "a = np.arange(12).reshape(3, 4)\n",
    "print(a)\n",
    "b = a > 4  # b 现在是一个布尔数组，跟 a 的 shape 相同\n",
    "print(b)\n",
    "\n",
    "print(a[b])  # 用 b 索引 a\n",
    "\n",
    "a[b] = -1  # 对索引的元素赋值\n",
    "\n",
    "print(a)"
   ]
  },
  {
   "cell_type": "markdown",
   "metadata": {},
   "source": [
    "**用多个一维布尔数组来索引**\n",
    "\n",
    "语法：`a[b1, b2]`，其中 `a` 是被索引数组，`b1` 和 `b2` 都是一维布尔数组，并且其长度分别跟 `a` 的第一维和第二维长度一致。\n",
    "\n",
    "示例："
   ]
  },
  {
   "cell_type": "code",
   "execution_count": 21,
   "metadata": {
    "collapsed": false
   },
   "outputs": [
    {
     "name": "stdout",
     "output_type": "stream",
     "text": [
      "[[0 1 2]\n",
      " [3 4 5]]\n",
      "[[0 1 2]]\n",
      "[[1]\n",
      " [4]]\n",
      "[1]\n"
     ]
    }
   ],
   "source": [
    "a = np.arange(6).reshape(2, 3)\n",
    "print(a)\n",
    "\n",
    "b1 = np.array([True, False])\n",
    "print(a[b1, :])  # 等价于 a[b1]\n",
    "\n",
    "b2 = np.array([False, True, False])\n",
    "print(a[:, b2])\n",
    "\n",
    "print(a[b1, b2])  # 每个索引的布尔数组进行“与”运算来决定元素是否被选取"
   ]
  },
  {
   "cell_type": "markdown",
   "metadata": {},
   "source": [
    "### 迭代数组\n",
    "\n",
    "多维数组按照第一维来迭代："
   ]
  },
  {
   "cell_type": "code",
   "execution_count": 22,
   "metadata": {
    "collapsed": false
   },
   "outputs": [
    {
     "name": "stdout",
     "output_type": "stream",
     "text": [
      "[1 2]\n",
      "[3 4]\n"
     ]
    }
   ],
   "source": [
    "a = np.array([[1, 2], [3, 4]])\n",
    "\n",
    "for row in a:\n",
    "    print(row)"
   ]
  },
  {
   "cell_type": "markdown",
   "metadata": {},
   "source": [
    "多维数组按照元素来迭代："
   ]
  },
  {
   "cell_type": "code",
   "execution_count": 23,
   "metadata": {
    "collapsed": false
   },
   "outputs": [
    {
     "name": "stdout",
     "output_type": "stream",
     "text": [
      "1\n",
      "2\n",
      "3\n",
      "4\n"
     ]
    }
   ],
   "source": [
    "a = np.array([[1, 2], [3, 4]])\n",
    "\n",
    "for e in a.flat:\n",
    "    print(e)"
   ]
  },
  {
   "cell_type": "markdown",
   "metadata": {},
   "source": [
    "# 复制数组\n",
    "\n",
    "关于多维数组对象的复制机制，不仅仅涉及到数组对象本身，还涉及到真正存储数组数据的对象。\n",
    "\n",
    "1. 不复制：不复制数组对象，也不复制存储数据的对象"
   ]
  },
  {
   "cell_type": "code",
   "execution_count": 24,
   "metadata": {
    "collapsed": false
   },
   "outputs": [
    {
     "name": "stdout",
     "output_type": "stream",
     "text": [
      "65999760 65999760\n",
      "(3,)\n",
      "(3, 1)\n",
      "[-1]\n",
      "[[-1]\n",
      " [ 2]\n",
      " [ 3]]\n",
      "[[-2]\n",
      " [ 4]\n",
      " [ 6]]\n"
     ]
    }
   ],
   "source": [
    "a = np.array([1, 2, 3])\n",
    "\n",
    "b = a\n",
    "\n",
    "print(id(a), id(b))\n",
    "\n",
    "print(a.shape)\n",
    "b.shape = 3, 1\n",
    "print(a.shape)\n",
    "\n",
    "b[0] = -1\n",
    "print(a[0])\n",
    "\n",
    "def f(c):\n",
    "    c *= 2\n",
    "\n",
    "print(a)\n",
    "f(a)\n",
    "print(a)"
   ]
  },
  {
   "cell_type": "markdown",
   "metadata": {},
   "source": [
    "2. 浅复制：复制数组对象，但共享存储数据的对象"
   ]
  },
  {
   "cell_type": "code",
   "execution_count": 25,
   "metadata": {
    "collapsed": false
   },
   "outputs": [
    {
     "name": "stdout",
     "output_type": "stream",
     "text": [
      "66013048 66013088\n",
      "(3,)\n",
      "(3,)\n",
      "-1\n",
      "[0 0 0]\n"
     ]
    }
   ],
   "source": [
    "a = np.array([1, 2, 3])\n",
    "\n",
    "b = a.view()\n",
    "\n",
    "print(id(a), id(b))\n",
    "\n",
    "print(a.shape)\n",
    "b.shape = 3, 1\n",
    "print(a.shape)\n",
    "\n",
    "b[0] = -1\n",
    "print(a[0])\n",
    "\n",
    "a[:] = 0  # slice 本身就是一种浅复制，因此可以改变数据\n",
    "print(a)"
   ]
  },
  {
   "cell_type": "markdown",
   "metadata": {},
   "source": [
    "3. 深复制：复制数组对象，并复制存储数据的对象"
   ]
  },
  {
   "cell_type": "code",
   "execution_count": 26,
   "metadata": {
    "collapsed": false
   },
   "outputs": [
    {
     "name": "stdout",
     "output_type": "stream",
     "text": [
      "66001320 66000160\n",
      "1\n"
     ]
    }
   ],
   "source": [
    "a = np.array([1, 2, 3])\n",
    "\n",
    "b = a.copy()\n",
    "\n",
    "print(id(a), id(b))\n",
    "\n",
    "b[0] = -1\n",
    "print(a[0])"
   ]
  },
  {
   "cell_type": "markdown",
   "metadata": {},
   "source": [
    "# 数组运算\n",
    "\n",
    "Numpy 重载了许多 Python 中的运算符，以支持数组运算，同时也提供了许多计算函数可以直接作用于数组。\n",
    "\n",
    "**常见运算**\n",
    "\n",
    "以下运算都是 element-wise 的，也即运算操作会分别作用于各个元素上。"
   ]
  },
  {
   "cell_type": "code",
   "execution_count": 27,
   "metadata": {
    "collapsed": false
   },
   "outputs": [
    {
     "name": "stdout",
     "output_type": "stream",
     "text": [
      "[[ 6  8]\n",
      " [10 12]]\n",
      "[[ 6  8]\n",
      " [10 12]]\n",
      "[[-4 -4]\n",
      " [-4 -4]]\n",
      "[[-4 -4]\n",
      " [-4 -4]]\n",
      "[[ 5 12]\n",
      " [21 32]]\n",
      "[[ 5 12]\n",
      " [21 32]]\n",
      "[[ 0.2         0.33333333]\n",
      " [ 0.42857143  0.5       ]]\n",
      "[[ 0.2         0.33333333]\n",
      " [ 0.42857143  0.5       ]]\n",
      "[[False False]\n",
      " [False  True]]\n",
      "[[ 1  4]\n",
      " [ 9 16]]\n",
      "[[2 3]\n",
      " [4 5]]\n",
      "[[ 7  8]\n",
      " [ 9 10]]\n"
     ]
    }
   ],
   "source": [
    "a = np.array([[1, 2], [3, 4]])\n",
    "b = np.array([[5, 6], [7, 8]])\n",
    "\n",
    "print(a+b)\n",
    "print(np.add(a, b))\n",
    "\n",
    "print(a-b)\n",
    "print(np.subtract(a, b))\n",
    "\n",
    "print(a*b)\n",
    "print(np.multiply(a, b))\n",
    "\n",
    "print(a/b)\n",
    "print(np.divide(a, b))\n",
    "\n",
    "print(a>3)  # 返回布尔数组\n",
    "\n",
    "print(a**2)\n",
    "\n",
    "a += 1  # 数组 a 将被修改\n",
    "b += 2  # 数组 b 将被修改\n",
    "print(a)\n",
    "print(b)"
   ]
  },
  {
   "cell_type": "markdown",
   "metadata": {},
   "source": [
    "**矩阵乘和向量乘**\n",
    "\n",
    "Numpy 重载的运算符 `*` 并不表示线性代数中的矩阵乘和向量乘，因此提供了函数 `dot` 来表示。"
   ]
  },
  {
   "cell_type": "code",
   "execution_count": 28,
   "metadata": {
    "collapsed": false
   },
   "outputs": [
    {
     "name": "stdout",
     "output_type": "stream",
     "text": [
      "32\n",
      "[[22 28]\n",
      " [49 64]]\n",
      "[[ 9 12 15]\n",
      " [19 26 33]\n",
      " [29 40 51]]\n",
      "[22 28]\n",
      "[14 32]\n",
      "[[ 5  6]\n",
      " [10 12]\n",
      " [15 18]]\n",
      "[[ 5 10 15]\n",
      " [ 6 12 18]]\n"
     ]
    }
   ],
   "source": [
    "a = np.array([1, 2, 3])\n",
    "b = np.array([4, 5, 6])\n",
    "\n",
    "print(np.dot(a, b))  # vector inner product\n",
    "\n",
    "x = np.array([[1, 2, 3], [4, 5, 6]])\n",
    "y = np.array([[1, 2], [3, 4], [5, 6]])\n",
    "\n",
    "print(np.dot(x, y))  # matrix product: 2x3 * 3x2 = 2x2\n",
    "print(np.dot(y, x))  # matrix product: 3x2 * 2x3 = 3x3\n",
    "\n",
    "print(np.dot(a, y))  # vector * matrix: 3 * 3x2 = 2\n",
    "\n",
    "print(np.dot(x, a))  # matrix * vector: 2x3 * 3 = 2\n",
    "\n",
    "x = np.array([1, 2, 3])\n",
    "y = np.array([5, 6])\n",
    "\n",
    "print(x.reshape(3, 1) * y)  # vector outer product: 利用 Broadcasting 实现向量外乘\n",
    "print(y.reshape(2, 1) * x)"
   ]
  },
  {
   "cell_type": "markdown",
   "metadata": {},
   "source": [
    "**常用数学函数**"
   ]
  },
  {
   "cell_type": "code",
   "execution_count": 29,
   "metadata": {
    "collapsed": false
   },
   "outputs": [
    {
     "name": "stdout",
     "output_type": "stream",
     "text": [
      "[[ 3.42561725  1.15929078  3.61988331  6.33998831]\n",
      " [-5.58872889 -1.39355182 -0.62510867 -3.87160326]\n",
      " [ 7.66755578 -3.35091177  4.07006618 -0.56010493]]\n",
      "[[ 1.  1.  1.  1.]\n",
      " [-1. -1. -1. -1.]\n",
      " [ 1. -1.  1. -1.]]\n",
      "[[ 3.42561725  1.15929078  3.61988331  6.33998831]\n",
      " [ 5.58872889  1.39355182  0.62510867  3.87160326]\n",
      " [ 7.66755578  3.35091177  4.07006618  0.56010493]]\n",
      "[[ 11.73485357   1.34395512  13.10355519  40.19545179]\n",
      " [ 31.23389064   1.94198668   0.39076085  14.98931178]\n",
      " [ 58.79141168  11.22860972  16.56543869   0.31371753]]\n",
      "[[ 1.85084231  1.07670366  1.90259909  2.51793334]\n",
      " [ 2.36404926  1.18048796  0.79063814  1.96763901]\n",
      " [ 2.76903517  1.83054958  2.0174405   0.74840158]]\n",
      "[ 0.          0.09983342  0.19866933  0.29552021  0.38941834  0.47942554\n",
      "  0.56464247  0.64421769  0.71735609  0.78332691  0.84147098  0.89120736\n",
      "  0.93203909  0.96355819  0.98544973  0.99749499  0.9995736   0.99166481\n",
      "  0.97384763  0.94630009  0.90929743  0.86320937  0.8084964   0.74570521\n",
      "  0.67546318  0.59847214  0.51550137  0.42737988  0.33498815  0.23924933\n",
      "  0.14112001  0.04158066 -0.05837414 -0.15774569 -0.2555411  -0.35078323\n",
      " -0.44252044 -0.52983614 -0.61185789 -0.68776616 -0.7568025  -0.81827711\n",
      " -0.87157577 -0.91616594 -0.95160207 -0.97753012 -0.993691   -0.99992326\n",
      " -0.99616461 -0.98245261 -0.95892427 -0.92581468 -0.88345466 -0.83226744\n",
      " -0.77276449 -0.70554033 -0.63126664 -0.55068554 -0.46460218 -0.37387666\n",
      " -0.2794155  -0.1821625  -0.0830894 ]\n",
      "[  2.71828183   7.3890561   20.08553692]\n",
      "[ 0.          0.69314718  1.09861229]\n"
     ]
    }
   ],
   "source": [
    "a = 5*np.random.randn(3, 4) + 2\n",
    "print(a)\n",
    "\n",
    "print(np.sign(a))\n",
    "print(np.absolute(a))\n",
    "print(np.square(a))\n",
    "print(np.sqrt(np.absolute(a)))\n",
    "print(np.sin(np.arange(0, 2*np.pi, 0.1)))\n",
    "print(np.exp(np.array([1, 2, 3])))\n",
    "print(np.log(np.array([1, 2, 3])))"
   ]
  },
  {
   "cell_type": "markdown",
   "metadata": {},
   "source": [
    "更多关于常用数学函数，[参考文档](https://docs.scipy.org/doc/numpy/reference/routines.math.html)。"
   ]
  },
  {
   "cell_type": "markdown",
   "metadata": {},
   "source": [
    "**作用于轴的函数**\n",
    "\n",
    "Numpy 提供的某些函数可以作用于数组的指定轴。可以将指定某个轴上进行计算，想成为合并该轴上的多个元素。"
   ]
  },
  {
   "cell_type": "code",
   "execution_count": 30,
   "metadata": {
    "collapsed": false
   },
   "outputs": [
    {
     "name": "stdout",
     "output_type": "stream",
     "text": [
      "[[ 0  1  2  3]\n",
      " [ 4  5  6  7]\n",
      " [ 8  9 10 11]]\n",
      "66\n",
      "[12 15 18 21]\n",
      "[ 6 22 38]\n",
      "0\n",
      "[0 1 2 3]\n",
      "[0 4 8]\n",
      "0\n",
      "[0 0 0 0]\n",
      "[0 0 0]\n"
     ]
    }
   ],
   "source": [
    "a = np.arange(12).reshape(3, 4)\n",
    "print(a)\n",
    "\n",
    "print(a.sum())  # 作用于整个数组\n",
    "print(a.sum(axis=0))  # 作用于第一抽，即数组行\n",
    "print(a.sum(axis=1))  # 作用于第二轴，即数组列\n",
    "\n",
    "print(a.min())  # 作用于整个数组\n",
    "print(a.min(axis=0))  # 作用于数组行\n",
    "print(a.min(axis=1))  # 作用于数组列\n",
    "\n",
    "print(a.argmin())  # 作用于整个数组\n",
    "print(a.argmin(axis=0))  # 作用于数组行\n",
    "print(a.argmin(axis=1))  # 作用于数组列"
   ]
  },
  {
   "cell_type": "markdown",
   "metadata": {},
   "source": [
    "# Broadcasting\n",
    "\n",
    "Numpy 提供了 Broadcasting 机制，允许不同 shape 的数组之间进行运算。具体来说，有时我们想要将低阶数组和高阶数组进行运算，Broadcasting 机制使得这类运算可以实现。\n",
    "\n",
    "假设我们想要将一个行向量加到另外一个矩阵的每个行中，如果没有 Broadcasting 机制，我们要这样做："
   ]
  },
  {
   "cell_type": "code",
   "execution_count": 31,
   "metadata": {
    "collapsed": false
   },
   "outputs": [
    {
     "name": "stdout",
     "output_type": "stream",
     "text": [
      "[[0 1 2]\n",
      " [3 4 5]]\n"
     ]
    }
   ],
   "source": [
    "a = np.array([[1, 2, 3], [4, 5, 6]])\n",
    "x = np.array([-1, -1, -1])\n",
    "\n",
    "xx = np.tile(x, (2, 1))  # 堆叠向量 x 以构造矩阵 2x3\n",
    "b = a + xx\n",
    "print(b)"
   ]
  },
  {
   "cell_type": "markdown",
   "metadata": {},
   "source": [
    "但利用 Broadcasting 机制，这样的计算变得十分简洁："
   ]
  },
  {
   "cell_type": "code",
   "execution_count": 32,
   "metadata": {
    "collapsed": false
   },
   "outputs": [
    {
     "name": "stdout",
     "output_type": "stream",
     "text": [
      "[[0 1 2]\n",
      " [3 4 5]]\n"
     ]
    }
   ],
   "source": [
    "b = a + x\n",
    "print(b)"
   ]
  },
  {
   "cell_type": "markdown",
   "metadata": {},
   "source": [
    "从上例可以看出，尽管 `a.shape` 等于 `(2, 3)`，`x.shape` 等于 `(3, )`，但利用 Broadcasting 机制，不同阶的数组之间可以进行运算。\n",
    "\n",
    "类似的将一个列添加到矩阵中所有列的方法如下："
   ]
  },
  {
   "cell_type": "code",
   "execution_count": 33,
   "metadata": {
    "collapsed": false
   },
   "outputs": [
    {
     "name": "stdout",
     "output_type": "stream",
     "text": [
      "[[0 1 2]\n",
      " [2 3 4]]\n"
     ]
    }
   ],
   "source": [
    "a = np.array([[1, 2, 3], [4, 5, 6]])\n",
    "x = np.array([-1, -2])\n",
    "\n",
    "print(a + x.reshape(2, 1))"
   ]
  },
  {
   "cell_type": "markdown",
   "metadata": {},
   "source": [
    "## 详解 Broadcasting 机制\n",
    "\n",
    "\n",
    "摘录自 http://cs231n.github.io/python-numpy-tutorial/#numpy-broadcasting 的解释：\n",
    "\n",
    "> Broadcasting two arrays together follows these rules:\n",
    "> 1. If the arrays do not have the same rank, prepend the shape of the lower rank array with 1s until both shapes have the same length.\n",
    "> 2. The two arrays are said to be compatible in a dimension if they have the same size in the dimension, or if one of the arrays has size 1 in that dimension.\n",
    "> 3. The arrays can be broadcast together if they are compatible in all dimensions.\n",
    "> 4. After broadcasting, each array behaves as if it had shape equal to the elementwise maximum of shapes of the two input arrays.\n",
    "> 5. In any dimension where one array had size 1 and the other array had size greater than 1, the first array behaves as if it were copied along that dimension\n",
    "\n",
    "更多关于 Broadcasting 机制，[参见文档](https://docs.scipy.org/doc/numpy/user/basics.broadcasting.html)。\n",
    "\n",
    "## Universal Functions\n",
    "\n",
    "Numpy 中支持 Broadcasting 机制的计算函数叫做 universal functions，Numpy 提供的大多数常见数学函数都是 universal 的，[参见文档](https://docs.scipy.org/doc/numpy/reference/ufuncs.html#available-ufuncs)。"
   ]
  },
  {
   "cell_type": "markdown",
   "metadata": {},
   "source": [
    "# 线性代数\n",
    "\n",
    "Numpy 提供了一个子库 `linalg` 和一些函数，专门用来处理常见的线性代数运算问题。\n",
    "\n",
    "## 示例"
   ]
  },
  {
   "cell_type": "code",
   "execution_count": 34,
   "metadata": {
    "collapsed": false
   },
   "outputs": [
    {
     "name": "stdout",
     "output_type": "stream",
     "text": [
      "[[ 1.  2.]\n",
      " [ 3.  4.]]\n",
      "[[  7.  10.]\n",
      " [ 15.  22.]]\n",
      "[[ 1.  3.]\n",
      " [ 2.  4.]]\n",
      "5.0\n",
      "[[-2.   1. ]\n",
      " [ 1.5 -0.5]]\n",
      "-2.0\n",
      "3.0\n",
      "5.47722557505\n",
      "[[-3.]\n",
      " [ 4.]]\n",
      "[-0.37228132  5.37228132]\n",
      "[[-0.82456484 -0.41597356]\n",
      " [ 0.56576746 -0.90937671]]\n",
      "[[-0.40455358 -0.9145143 ]\n",
      " [-0.9145143   0.40455358]]\n",
      "[ 5.4649857   0.36596619]\n",
      "[[-0.57604844 -0.81741556]\n",
      " [ 0.81741556 -0.57604844]]\n"
     ]
    }
   ],
   "source": [
    "a = np.array([[1.0, 2.0], [3.0, 4.0]])\n",
    "print(a)\n",
    "\n",
    "print(np.dot(a, a))  # 矩阵相乘\n",
    "\n",
    "print(a.transpose())  # 矩阵转置\n",
    "\n",
    "print(np.trace(a))  # 矩阵 trace\n",
    "\n",
    "print(np.linalg.inv(a))  # 逆矩阵\n",
    "\n",
    "print(np.linalg.det(a))  # 矩阵 determinant\n",
    "\n",
    "print(np.linalg.norm(np.array([1, 2, 2])))  # 向量模\n",
    "\n",
    "print(np.linalg.norm(np.array([[1, 2], [3, 4]])))  # 矩阵模\n",
    "\n",
    "y = np.array([[5.0], [7.0]])\n",
    "print(np.linalg.solve(a, y))  # 解线性方程组\n",
    "\n",
    "w, v = np.linalg.eig(a)  # 矩阵特征分解\n",
    "print(w)\n",
    "print(v)\n",
    "\n",
    "u, s, vh = np.linalg.svd(a, full_matrices=True)  # 矩阵奇异值分解\n",
    "print(u)\n",
    "print(s)\n",
    "print(vh)"
   ]
  }
 ],
 "metadata": {
  "anaconda-cloud": {},
  "kernelspec": {
   "display_name": "Python [conda env:Anaconda3]",
   "language": "python",
   "name": "conda-env-Anaconda3-py"
  },
  "language_info": {
   "codemirror_mode": {
    "name": "ipython",
    "version": 3
   },
   "file_extension": ".py",
   "mimetype": "text/x-python",
   "name": "python",
   "nbconvert_exporter": "python",
   "pygments_lexer": "ipython3",
   "version": "3.5.5"
  },
  "widgets": {
   "state": {},
   "version": "1.1.2"
  }
 },
 "nbformat": 4,
 "nbformat_minor": 0
}
