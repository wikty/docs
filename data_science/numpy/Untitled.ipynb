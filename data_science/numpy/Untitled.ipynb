{
 "cells": [
  {
   "cell_type": "markdown",
   "metadata": {},
   "source": [
    "# 简介\n",
    "\n",
    "Numpy 是一个基础的科学计算库，支持多维数组数据类型以及复杂数组运算操作，并且还提供了许多有用的科学计算函数。\n",
    "\n",
    "\n",
    "# 多维数组\n",
    "\n",
    "## 多维数组是计算的基石\n",
    "\n",
    "多维数组 `numpy.ndarray` 是 Numpy 中重要的数据类型，是科学计算的数据容器和基石。\n",
    "\n",
    "多维数组含有多个维度，不同维度可以含有不同数量的元素，不过同一个多维数组中的元素类型必须保持一致。多维数组的维度数量称为阶（rank），每个维度用轴（axis）来指代。\n",
    "\n",
    "\n",
    "下面通过一个示例，来看多维数组对象的一些常用属性："
   ]
  },
  {
   "cell_type": "code",
   "execution_count": 7,
   "metadata": {
    "collapsed": false
   },
   "outputs": [
    {
     "name": "stdout",
     "output_type": "stream",
     "text": [
      "2\n",
      "(2, 3)\n",
      "6\n",
      "int32\n",
      "4\n",
      "<memory at 0x0320F300>\n"
     ]
    }
   ],
   "source": [
    "import numpy as np\n",
    "\n",
    "a = np.array([[1, 2, 3], [4, 5, 6]])\n",
    "\n",
    "print(a.ndim)  # 返回一个整数，表示数组的维度数量\n",
    "print(a.shape)  # 返回一个 tuple，表示数组中每个维度的元素数量\n",
    "print(a.size)  # 返回一个整数，表示数组中含有的元素总数\n",
    "print(a.dtype)  # 返回数组中元素的数据类型\n",
    "print(a.itemsize)  # 返回数组中每个元素占用的字节数\n",
    "print(a.data)  # 返回真正储存数组中元素的对象"
   ]
  },
  {
   "cell_type": "markdown",
   "metadata": {},
   "source": [
    "为什么说多维数组是科学计算的基石？\n",
    "\n",
    "Numpy 为多维数组提供了许多数学运算操作，比如数组之间可以进行加减乘除等运算，并且通过 Broadcasting 机制（后面会介绍）可以将这些运算扩展到维度不匹配的数组之间。Numpy 还支持数组进行一些常规的线性代数运算，如向量内乘、矩阵相乘等。此外 Numpy 还提供了许多常用的数学函数，如 exp, log, sin, cos 等，并且这些函数可以直接作用于数组对象上。因此多维数组是数据的容器，是科学计算的基石。"
   ]
  },
  {
   "cell_type": "markdown",
   "metadata": {},
   "source": [
    "## 创建多维数组\n",
    "\n",
    "* 由 Python 中的 `list` 或 `tuple` 对象来创建"
   ]
  },
  {
   "cell_type": "code",
   "execution_count": 8,
   "metadata": {
    "collapsed": false
   },
   "outputs": [
    {
     "name": "stdout",
     "output_type": "stream",
     "text": [
      "(3,) (2, 2) (3, 2)\n"
     ]
    }
   ],
   "source": [
    "a = np.array([1, 2, 3])  # 创建一维数组\n",
    "b = np.array([[1, 2], [3, 4]])  # 创建二维数组\n",
    "c = np.array([(1, 2), (3, 4), (5, 6)])  # 使用 tuple 也是一样的\n",
    "\n",
    "print(a.shape, b.shape, c.shape)"
   ]
  },
  {
   "cell_type": "markdown",
   "metadata": {},
   "source": [
    "* 通过 Numpy 中的"
   ]
  }
 ],
 "metadata": {
  "anaconda-cloud": {},
  "kernelspec": {
   "display_name": "Python [conda env:Anaconda3]",
   "language": "python",
   "name": "conda-env-Anaconda3-py"
  },
  "language_info": {
   "codemirror_mode": {
    "name": "ipython",
    "version": 3
   },
   "file_extension": ".py",
   "mimetype": "text/x-python",
   "name": "python",
   "nbconvert_exporter": "python",
   "pygments_lexer": "ipython3",
   "version": "3.5.5"
  },
  "widgets": {
   "state": {},
   "version": "1.1.2"
  }
 },
 "nbformat": 4,
 "nbformat_minor": 0
}
